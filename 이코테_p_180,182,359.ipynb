{
  "nbformat": 4,
  "nbformat_minor": 0,
  "metadata": {
    "colab": {
      "name": "이코테-p.180,182,359.ipynb",
      "provenance": [],
      "collapsed_sections": [],
      "include_colab_link": true
    },
    "kernelspec": {
      "name": "python3",
      "display_name": "Python 3"
    },
    "language_info": {
      "name": "python"
    }
  },
  "cells": [
    {
      "cell_type": "markdown",
      "metadata": {
        "id": "view-in-github",
        "colab_type": "text"
      },
      "source": [
        "<a href=\"https://colab.research.google.com/github/kim-juhyeon/coding-Practice/blob/main/%EC%9D%B4%EC%BD%94%ED%85%8C_p_180%2C182%2C359.ipynb\" target=\"_parent\"><img src=\"https://colab.research.google.com/assets/colab-badge.svg\" alt=\"Open In Colab\"/></a>"
      ]
    },
    {
      "cell_type": "code",
      "execution_count": null,
      "metadata": {
        "colab": {
          "base_uri": "https://localhost:8080/"
        },
        "id": "IZH5Uuf0EkWz",
        "outputId": "9c6d424e-ea52-4435-c198-385d8a6cf5d1"
      },
      "outputs": [
        {
          "output_type": "stream",
          "name": "stdout",
          "text": [
            "2\n",
            "홍길동 95\n",
            "이순신 77\n",
            "이순신 홍길동 "
          ]
        }
      ],
      "source": [
        "# p.180 성적이 낮은 순서로 학생 출력하기 \n",
        "\n",
        "# n을 입력받기\n",
        "n = int(input())\n",
        "\n",
        "# N명의 학생 정보를 입력받아 리스트에 저장\n",
        "array = []\n",
        "for i in range(n):\n",
        "  input_data = input().split() # split()- 공백의 개수와 상관없이 한개의 공백으로 간주 / split('') 공백의 개수만큼 공백으로 간주\n",
        "  # 입력은 문자열 그대로, 점수는 정수형으로 변환하여 저장\n",
        "  array.append((input_data[0], int(input_data[1])))\n",
        "\n",
        "# 키(key)를 이용하여 점수를 기준으로 정렬\n",
        "# 어떤 기준으로 정렬할건지 정해주는 파라미터\n",
        "array = sorted(array, key=lambda student: student[1])\n",
        "\n",
        "# 정렬이 수행된 결과를 출력\n",
        "for student in array:\n",
        "  print(student[0], end=' ')"
      ]
    },
    {
      "cell_type": "code",
      "source": [
        "# p.182 두 배열의 원소 교체\n",
        "\n",
        "n,k = map(int, input().split())     # n 과 k 를 입력받기\n",
        "a = list(map(int, input().split())) # 배열 A의 모든 원소를 입력받기\n",
        "b = list(map(int, input().split())) # 배열 B의 모든 원소를 입력받기\n",
        "\n",
        "a.sort() # 배열 A는 오름차순 정렬 수행\n",
        "b.sort(reverse=True) # 배열 B는 내림차순 정렬 수행\n",
        "\n",
        "# 첫 번째 인텍스부터 확인하며, 두 배열의 원소를 최대 K번 비교\n",
        "for i in range(k):\n",
        "  # A의 원소가 B의 원소보다 작은 경우\n",
        "  if a[i] < b[i]:\n",
        "    # 두 원소를 교체\n",
        "    a[i], b[i] = b[i], a[i]\n",
        "  else:   # A의 원소가 B의 원소보다 크거나 같을 때, 반복문을 탈출\n",
        "    break\n",
        "\n",
        "print(sum(a))"
      ],
      "metadata": {
        "colab": {
          "base_uri": "https://localhost:8080/"
        },
        "id": "WUD9EYrwF7vT",
        "outputId": "5a369368-b6a7-43a9-f0b1-6269d58d40fb"
      },
      "execution_count": null,
      "outputs": [
        {
          "output_type": "stream",
          "name": "stdout",
          "text": [
            "5  3\n",
            "1 2 5 4 3\n",
            "5 5 6 6 6\n",
            "27\n"
          ]
        }
      ]
    },
    {
      "cell_type": "code",
      "source": [
        "n = int(input())\n",
        "students = [] # 학생 정보를 담을 리스트\n",
        "\n",
        "# 모든 학생 정보를 입력받기\n",
        "for _ in range(n):\n",
        "  students.append(input().split())\n",
        "\n",
        "'''\n",
        "[정렬 기준]\n",
        "1) 두 번째 원소를 기준으로 내림차순 정렬\n",
        "2) 두 번째 원소가 같은 경우, 세 번째 원소를 기준으로 오름차순 정렬\n",
        "3) 세 번째 원소가 같은 경우, 네 번째 원소를 기준으로 내림차순 정렬\n",
        "4) 네 번째 원소가 같은 경우, 첫 번째 원소를 기준으로 오름차순 정렬\n",
        "'''\n",
        "\n",
        "students.sort(key=lambda x: (-int(x[1]), int(x[2]),-int(x[3]),x[0]))\n",
        "\n",
        "# 정렬된 학생 정보에서 이름만 출력\n",
        "for student in students:\n",
        "  print(student[0])"
      ],
      "metadata": {
        "colab": {
          "base_uri": "https://localhost:8080/"
        },
        "id": "d7GU8KBEYXhd",
        "outputId": "36728234-6316-491f-e076-6936d61d6955"
      },
      "execution_count": null,
      "outputs": [
        {
          "output_type": "stream",
          "name": "stdout",
          "text": [
            "12\n",
            "Junkyu 50 60 100\n",
            "Sangkeun 80 60 50\n",
            "Sunyoung 80 70 100\n",
            "Soong 50 60 90\n",
            "Haebin 50 60 100\n",
            "Kangsoo 60 80 100\n",
            "Donghyuk 80 60 100\n",
            "Sei 70 70 70\n",
            "Wonseob 70 70 90\n",
            "Sanghyun 70 70 80\n",
            "nsj 80 80 80\n",
            "Taewhan 50 60 90\n",
            "Donghyuk\n",
            "Sangkeun\n",
            "Sunyoung\n",
            "nsj\n",
            "Wonseob\n",
            "Sanghyun\n",
            "Sei\n",
            "Kangsoo\n",
            "Haebin\n",
            "Junkyu\n",
            "Soong\n",
            "Taewhan\n"
          ]
        }
      ]
    },
    {
      "cell_type": "code",
      "source": [
        ""
      ],
      "metadata": {
        "id": "Y6eVobAUZvHX"
      },
      "execution_count": null,
      "outputs": []
    }
  ]
}