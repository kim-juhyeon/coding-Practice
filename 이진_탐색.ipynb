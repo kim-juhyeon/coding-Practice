{
  "nbformat": 4,
  "nbformat_minor": 0,
  "metadata": {
    "colab": {
      "name": "\b이진 탐색.ipynb",
      "provenance": [],
      "authorship_tag": "ABX9TyP1jhDM6LeiL1yzzH3qGkx/",
      "include_colab_link": true
    },
    "kernelspec": {
      "name": "python3",
      "display_name": "Python 3"
    },
    "language_info": {
      "name": "python"
    }
  },
  "cells": [
    {
      "cell_type": "markdown",
      "metadata": {
        "id": "view-in-github",
        "colab_type": "text"
      },
      "source": [
        "<a href=\"https://colab.research.google.com/github/kim-juhyeon/coding-Practice/blob/main/%08%EC%9D%B4%EC%A7%84_%ED%83%90%EC%83%89.ipynb\" target=\"_parent\"><img src=\"https://colab.research.google.com/assets/colab-badge.svg\" alt=\"Open In Colab\"/></a>"
      ]
    },
    {
      "cell_type": "markdown",
      "source": [
        "## 이진 탐색 알고리즘\n",
        "\n",
        "리스트 안에 있는 특정한 데이터를 찾기 위해 앞에서부터 데이터를 하나씩 차례대로 확인하는 방법이다.😁\n",
        "\n",
        "보통 정렬되지 않는 리스트에서 데이터를 찾아야 할 때 사용합니다.🔆<br>\n",
        "(리스트 내에 데이터가 아무리 많아도 시간만 충분하다면 항상 원하는 원소를 찾을 수 있다는 장점이 있음.</br>\n",
        "\n",
        ">1. 순차탐색 : 순차로 데이터를 탐색함 (리스트 자료형에서 특정한 값을 가지는 원소의 게수를 세는 count() 메서드를 <br>이용할 때도 내부에서는 순차탐색이 수행됩니다. </br>\n",
        "\n"
      ],
      "metadata": {
        "id": "1oxpJFVo8CYP"
      }
    },
    {
      "cell_type": "code",
      "execution_count": null,
      "metadata": {
        "colab": {
          "base_uri": "https://localhost:8080/"
        },
        "id": "NIp2Q6Q-74Bf",
        "outputId": "f2f7ac12-e3bb-4388-bcc0-60cb68eae0cc"
      },
      "outputs": [
        {
          "output_type": "stream",
          "name": "stdout",
          "text": [
            "생성할 원소 개수를 입력한 다음 한 칸 띄고 찾을 문자열을 입력하세요.\n",
            "6 권\n",
            "앞서 적은 원소 개수만큼 문자열을 입력하세요. 구분은 띄어쓰기 한 칸으로 합니다.\n",
            "송 권 김 김주 유 성\n",
            "2\n"
          ]
        }
      ],
      "source": [
        "def seqential_search(n,target,array): \n",
        "  for i in range(n): #n = 6\n",
        "    if array[i] == target: # array[0]=송,array[1]=권\n",
        "      return i +1 #i=0 i=1+1 =2\n",
        "print(\"생성할 원소 개수를 입력한 다음 한 칸 띄고 찾을 문자열을 입력하세요.\")\n",
        "input_data = input().split() # input_data = [6, 권]\n",
        "n = int(input_data[0]) # 원소의 개수  # n= 6\n",
        "target = input_data[1] # 찾고자 하는 문자열 target = '권'\n",
        "\n",
        "print(\"앞서 적은 원소 개수만큼 문자열을 입력하세요. 구분은 띄어쓰기 한 칸으로 합니다.\")\n",
        "array = input().split()\n",
        "# 순차 탐색 수행 결과 출력\n",
        "print(seqential_search(n,target,array)) #seqential_search(6,권,송 권 김 김주 유 성)"
      ]
    },
    {
      "cell_type": "markdown",
      "source": [
        "> 2. 이진탐색 : 반으로 쪼개면서 탐색하기\n"
      ],
      "metadata": {
        "id": "PTtGPkBGApkr"
      }
    },
    {
      "cell_type": "code",
      "source": [
        "# 이진 탐색 소스코드 : 재귀적 구현(Python)\n",
        "def binary_search(array, target, start, end):# (array,7,srat=0,9)\n",
        "    if start > end: # 0>9\n",
        "        return None \n",
        "    mid = (start + end) // 2 #(0+9)//2 -> mid = 4\n",
        "    # 찾은 경우 중간점 인덱스 변환\n",
        "    if array[mid] == target: #arry[4]:9 == 9\n",
        "        return mid \n",
        "    # 중간점의 값보다 찾고자 하는 값이 작은 경우 왼쪽 확인\n",
        "    elif array[mid] > target:\n",
        "        return binary_search(array, target, start, mid - 1)\n",
        "    # 중간점의 값보다 찾고자 하는 값이 큰 경우 오른쪽 확인\n",
        "    else:\n",
        "        return binary_search(array, target, mid + 1, end)\n",
        "\n",
        "# n(원소의 개수)과 target(찾고자 하는 값)을 입력 받기\n",
        "n, target = list(map(int, input().split())) # 10,7\n",
        "# 전체 원소 입력 받기\n",
        "array = list(map(int, input().split())) # array = [1 3 5 7 9 11 13 15 17 19]\n",
        "\n",
        "# 이진 탐색 수행 결과 출력\n",
        "result = binary_search(array, target, 0, n - 1) # result = (array,7,9)\n",
        "if result == None: # \n",
        "    print(\"원소가 존재하지 않습니다.\")\n",
        "else: # result+1 =5 \n",
        "    print(result + 1)"
      ],
      "metadata": {
        "colab": {
          "base_uri": "https://localhost:8080/"
        },
        "id": "ca4eWj9QApa4",
        "outputId": "e5c136c3-ccae-48a8-a7ce-851bd98e4e7a"
      },
      "execution_count": null,
      "outputs": [
        {
          "output_type": "stream",
          "name": "stdout",
          "text": [
            "10 7\n",
            "1 3 5 7 9 11 13 15 17 19\n",
            "4\n"
          ]
        }
      ]
    },
    {
      "cell_type": "code",
      "source": [
        ""
      ],
      "metadata": {
        "id": "R3ShZStSBwV-"
      },
      "execution_count": null,
      "outputs": []
    }
  ]
}