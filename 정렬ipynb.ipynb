{
  "nbformat": 4,
  "nbformat_minor": 0,
  "metadata": {
    "colab": {
      "name": "정렬ipynb",
      "provenance": [],
      "collapsed_sections": [],
      "authorship_tag": "ABX9TyPwoEhmUgb20C0USZw/d10N",
      "include_colab_link": true
    },
    "kernelspec": {
      "name": "python3",
      "display_name": "Python 3"
    },
    "language_info": {
      "name": "python"
    }
  },
  "cells": [
    {
      "cell_type": "markdown",
      "metadata": {
        "id": "view-in-github",
        "colab_type": "text"
      },
      "source": [
        "<a href=\"https://colab.research.google.com/github/kim-juhyeon/coding-Practice/blob/main/%EC%A0%95%EB%A0%ACipynb.ipynb\" target=\"_parent\"><img src=\"https://colab.research.google.com/assets/colab-badge.svg\" alt=\"Open In Colab\"/></a>"
      ]
    },
    {
      "cell_type": "markdown",
      "source": [
        "##선택정렬"
      ],
      "metadata": {
        "id": "vnhF1QM36sdm"
      }
    },
    {
      "cell_type": "code",
      "execution_count": null,
      "metadata": {
        "colab": {
          "base_uri": "https://localhost:8080/"
        },
        "id": "OcO7KxVe5Ndp",
        "outputId": "e71751ba-6d15-4797-fbee-99b5aa3700aa"
      },
      "outputs": [
        {
          "output_type": "stream",
          "name": "stdout",
          "text": [
            "[0, 1, 2, 3, 4, 5, 6, 7, 8, 9]\n"
          ]
        }
      ],
      "source": [
        "array = [7,5,9,0,3,1,6,2,4,8] # [0,5,9,7,3,1,6,2,4,8]\n",
        "for i in range(len(array)):   # 0,9\n",
        "    min_index = i  # 0,1,3\n",
        "    for j in range(i+1,len(array)): # 1,10 j=3\n",
        "        if array[min_index] > array[j]: #  7>5 , 5>9 , 5>0, 0>3\n",
        "            min_index = j #    j = 1,3             \n",
        "    # 7,0 = 0,7\n",
        "    array[i], array[min_index] = array[min_index], array[i] \n",
        " \n",
        "print(array)  #스와프는 임시변수를 만들지 않아도  되는 장점이 있음."
      ]
    },
    {
      "cell_type": "markdown",
      "source": [
        "#삽입 정렬"
      ],
      "metadata": {
        "id": "TIGbCw5r9kh2"
      }
    },
    {
      "cell_type": "code",
      "source": [
        "array = [7,5,9,0,3,1,6,4,2,8] # 0~9\n",
        "#5,7,9,0,3,1,6,4,2,8 -> 5,7,0,9,3 -> 5,0,7,9,3 -> 0,5,7,9,3 -> 0,5,7,3,9 ->\n",
        "# 0~9\n",
        "for i in range(1,len(array)): # 1,10 i =1,2,3 \n",
        "#1,(2,1),(3,2,1),4,3,2,1\n",
        "  for j in range(1,0,-1): (3,0,-1) <- j=1,2,(3,2,1),(4,3\n",
        "    if array[j] < array[j-1]: #5<7 ,9<7,0<9,0<7,0<5,3<9 , 3<7\n",
        "      array[j], array[j-1] = array[j-1],array[j] \n",
        "\n",
        "    else:\n",
        "      break\n",
        "\n",
        "\n",
        "print(array)"
      ],
      "metadata": {
        "id": "htLgU2dE6xm7",
        "colab": {
          "base_uri": "https://localhost:8080/"
        },
        "outputId": "ae79758c-509b-4382-ac11-7f0d9de5ad44"
      },
      "execution_count": null,
      "outputs": [
        {
          "output_type": "stream",
          "name": "stdout",
          "text": [
            "[0, 1, 2, 3, 4, 5, 6, 7, 8, 9]\n"
          ]
        }
      ]
    },
    {
      "cell_type": "code",
      "source": [
        "\n",
        "for i in range(10,0,-2): \n",
        "  print(i)"
      ],
      "metadata": {
        "colab": {
          "base_uri": "https://localhost:8080/"
        },
        "id": "l2Na2k3fE6dI",
        "outputId": "9f42241f-19e5-4bc2-85fd-fb71582c6960"
      },
      "execution_count": null,
      "outputs": [
        {
          "output_type": "stream",
          "name": "stdout",
          "text": [
            "10\n",
            "8\n",
            "6\n",
            "4\n",
            "2\n"
          ]
        }
      ]
    },
    {
      "cell_type": "markdown",
      "source": [
        "#퀵 정렬"
      ],
      "metadata": {
        "id": "Tg29CSW-6d45"
      }
    },
    {
      "cell_type": "code",
      "source": [
        "array = [7,5,9,0,3,1,6,4,2,8] # 7,2,9,0,3,1,6,4,5,8\n",
        "\n",
        "def quick_sort(array,start,end):  # strat = 0 , 8\n",
        "  if start>=end: # 0>=8\n",
        "    return\n",
        "\n",
        "  pivot = start # 기준점 = 0\n",
        "  left = start + 1 # 1,2\n",
        "  right = end # end = 8,7\n",
        "\n",
        "  while left <= right: # 1<=8  2<=8\n",
        "\n",
        "    while left <= end and array[left] <= array[pivot]: # 9 <= 7\n",
        "      left += 1\n",
        "\n",
        "    while right > start and array[right] >= array[pivot]: # 8 >= 7 , 2>=7\n",
        "      right -= 1\n",
        "\n",
        "    if left > right: # 2>7\n",
        "      array[right],array[pivot] = array[pivot], array[right]\n",
        "\n",
        "    else: # 5,2 = 2,5 \"\"3\" \n",
        "      array[left], array[right] = array[right], array[left]\n",
        "\n",
        "  quick_sort(array,start,right-1)\n",
        "  quick_sort(array,right+1,end)\n",
        "\n",
        "quick_sort(array,0,len(array)-1)\n",
        "print(array)"
      ],
      "metadata": {
        "id": "xxsCdLptE8NH"
      },
      "execution_count": null,
      "outputs": []
    },
    {
      "cell_type": "code",
      "source": [
        "array = [7,5,9,0,3,1,6,4,2,8]\n",
        "\n",
        "def quick_sort(array):\n",
        "\n",
        "  if len(array) <= 1:\n",
        "    return array\n",
        "\n",
        "  pivot =array[0]\n",
        "  tail  = array[1:]\n",
        "\n",
        "  left_side = [x for x in tail if x <= pivot]\n",
        "  right_side =[x for x in tail if x > pivot]\n",
        "\n",
        "  return quick_sort(left_side) + [pivot] + quick_sort(right_side)\n",
        "\n",
        "\n",
        "print(quick_sort(array))"
      ],
      "metadata": {
        "id": "sxRMwr7_6gbG"
      },
      "execution_count": null,
      "outputs": []
    },
    {
      "cell_type": "code",
      "source": [
        ""
      ],
      "metadata": {
        "id": "qzZsCBiY8HgC"
      },
      "execution_count": null,
      "outputs": []
    },
    {
      "cell_type": "markdown",
      "source": [
        "#계수 정렬 알고리즘"
      ],
      "metadata": {
        "id": "PT1xLxIZ8IVg"
      }
    },
    {
      "cell_type": "code",
      "source": [
        "array = [7,5,9,0,3,1,6,2,9,1,4,8,0,5,2]\n",
        "\n",
        "count = [0] * (max(array)+1)\n",
        "\n",
        "for i in range(len(array)):\n",
        "  count[array[i]] += 1\n",
        "\n",
        "for i in range(len(count)):\n",
        "  for j in range(count[i]):\n",
        "    print(i,end=' ')"
      ],
      "metadata": {
        "colab": {
          "base_uri": "https://localhost:8080/"
        },
        "id": "5Mz8islW8Jx4",
        "outputId": "c9ff0878-c596-4002-a0c1-5220666eb624"
      },
      "execution_count": null,
      "outputs": [
        {
          "output_type": "stream",
          "name": "stdout",
          "text": [
            "0 0 1 1 2 2 3 4 5 5 6 7 8 9 9 "
          ]
        }
      ]
    },
    {
      "cell_type": "code",
      "source": [
        "array = [1,2,3,4,5,6]\n",
        "\n",
        "for i in range(1,len(array)): # 1~4 -> i=1,2,3\n",
        "  for j in range(i,0,-1):#1,2~1(2,1),3~1(3,2,1)\n",
        "    print(j) #"
      ],
      "metadata": {
        "colab": {
          "base_uri": "https://localhost:8080/"
        },
        "id": "2FIOSSws6UIu",
        "outputId": "78ea8483-e1fd-44cd-fd45-91425b1725a3"
      },
      "execution_count": null,
      "outputs": [
        {
          "output_type": "stream",
          "name": "stdout",
          "text": [
            "1\n",
            "2\n",
            "1\n",
            "3\n",
            "2\n",
            "1\n",
            "4\n",
            "3\n",
            "2\n",
            "1\n",
            "5\n",
            "4\n",
            "3\n",
            "2\n",
            "1\n"
          ]
        }
      ]
    },
    {
      "cell_type": "code",
      "source": [
        "array = [1,2,3,4]\n",
        "\n",
        "for i in range(1,len(array)):\n",
        "  for j in range(i,0,-1):\n",
        "    print(j)"
      ],
      "metadata": {
        "colab": {
          "base_uri": "https://localhost:8080/"
        },
        "id": "jpK3mDHrFoUr",
        "outputId": "682c8cae-422c-40a6-a326-e77b57d70082"
      },
      "execution_count": null,
      "outputs": [
        {
          "output_type": "stream",
          "name": "stdout",
          "text": [
            "4\n"
          ]
        }
      ]
    },
    {
      "cell_type": "code",
      "source": [
        "array = [7,5,9,0,3,1,6,2,4,8] \n",
        "for i in range(len(array)):\n",
        "  print(i)"
      ],
      "metadata": {
        "colab": {
          "base_uri": "https://localhost:8080/"
        },
        "id": "ZyEUM9RiRf34",
        "outputId": "e31eed4b-43ba-4373-accf-3c9890d6cd60"
      },
      "execution_count": null,
      "outputs": [
        {
          "output_type": "stream",
          "name": "stdout",
          "text": [
            "0\n",
            "1\n",
            "2\n",
            "3\n",
            "4\n",
            "5\n",
            "6\n",
            "7\n",
            "8\n",
            "9\n"
          ]
        }
      ]
    },
    {
      "cell_type": "markdown",
      "source": [
        "# 위에서 아래로"
      ],
      "metadata": {
        "id": "gB9uOdfvj8jc"
      }
    },
    {
      "cell_type": "code",
      "source": [
        "n = int(input())\n",
        "array=[]\n",
        "for i in range(n):\n",
        "    array.append(int(input()))\n",
        "arr2 = array.sorted(reverse=True)\n",
        "for i in arr2:\n",
        "    print(i,end=\" \") # a2 = a1.sort()"
      ],
      "metadata": {
        "colab": {
          "base_uri": "https://localhost:8080/",
          "height": 313
        },
        "id": "zi5n-5grlc7-",
        "outputId": "aff33012-939e-4e3c-824d-1cb568b3688d"
      },
      "execution_count": null,
      "outputs": [
        {
          "name": "stdout",
          "output_type": "stream",
          "text": [
            "3\n",
            "1\n",
            "2\n",
            "3\n"
          ]
        },
        {
          "output_type": "error",
          "ename": "AttributeError",
          "evalue": "ignored",
          "traceback": [
            "\u001b[0;31m---------------------------------------------------------------------------\u001b[0m",
            "\u001b[0;31mAttributeError\u001b[0m                            Traceback (most recent call last)",
            "\u001b[0;32m<ipython-input-25-e4b76fe16ed0>\u001b[0m in \u001b[0;36m<module>\u001b[0;34m()\u001b[0m\n\u001b[1;32m      3\u001b[0m \u001b[0;32mfor\u001b[0m \u001b[0mi\u001b[0m \u001b[0;32min\u001b[0m \u001b[0mrange\u001b[0m\u001b[0;34m(\u001b[0m\u001b[0mn\u001b[0m\u001b[0;34m)\u001b[0m\u001b[0;34m:\u001b[0m\u001b[0;34m\u001b[0m\u001b[0;34m\u001b[0m\u001b[0m\n\u001b[1;32m      4\u001b[0m     \u001b[0marray\u001b[0m\u001b[0;34m.\u001b[0m\u001b[0mappend\u001b[0m\u001b[0;34m(\u001b[0m\u001b[0mint\u001b[0m\u001b[0;34m(\u001b[0m\u001b[0minput\u001b[0m\u001b[0;34m(\u001b[0m\u001b[0;34m)\u001b[0m\u001b[0;34m)\u001b[0m\u001b[0;34m)\u001b[0m\u001b[0;34m\u001b[0m\u001b[0;34m\u001b[0m\u001b[0m\n\u001b[0;32m----> 5\u001b[0;31m \u001b[0marr2\u001b[0m \u001b[0;34m=\u001b[0m \u001b[0marray\u001b[0m\u001b[0;34m.\u001b[0m\u001b[0msorted\u001b[0m\u001b[0;34m(\u001b[0m\u001b[0mreverse\u001b[0m\u001b[0;34m=\u001b[0m\u001b[0;32mTrue\u001b[0m\u001b[0;34m)\u001b[0m\u001b[0;34m\u001b[0m\u001b[0;34m\u001b[0m\u001b[0m\n\u001b[0m\u001b[1;32m      6\u001b[0m \u001b[0;32mfor\u001b[0m \u001b[0mi\u001b[0m \u001b[0;32min\u001b[0m \u001b[0marr2\u001b[0m\u001b[0;34m:\u001b[0m\u001b[0;34m\u001b[0m\u001b[0;34m\u001b[0m\u001b[0m\n\u001b[1;32m      7\u001b[0m     \u001b[0mprint\u001b[0m\u001b[0;34m(\u001b[0m\u001b[0mi\u001b[0m\u001b[0;34m,\u001b[0m\u001b[0mend\u001b[0m\u001b[0;34m=\u001b[0m\u001b[0;34m\" \"\u001b[0m\u001b[0;34m)\u001b[0m \u001b[0;31m# a2 = a1.sort()\u001b[0m\u001b[0;34m\u001b[0m\u001b[0;34m\u001b[0m\u001b[0m\n",
            "\u001b[0;31mAttributeError\u001b[0m: 'list' object has no attribute 'sorted'"
          ]
        }
      ]
    },
    {
      "cell_type": "markdown",
      "source": [
        "## 성적이 낮은 순서로 학생 출력하기\n",
        "- N명의 학생 정보가 있다. 학생 정보는 학생의 이름과 학생의 성적으로 구분된다.\n",
        "> 첫 번째 줄에 학생의 수 N이 입력된다.\n",
        ">> 두 번째 줄부터 N+1번째 줄에는 학생의 이름을 나타내는 문자열 A와 학생의 성적을 나타내는 정수 B가 공백으로 구분되어 입력된다. 문자열 A의 길이와 학생의 성적은 100이하의 자연수이다."
      ],
      "metadata": {
        "id": "mci5kNzw7d6H"
      }
    },
    {
      "cell_type": "code",
      "source": [
        "N = int(input())\n",
        "\n",
        "array = []\n",
        "\n",
        "for i in range(N):\n",
        "    input_data = input().split()\n",
        "    array.append((input_data[0], int(input_data[1])))\n",
        "\n",
        "\n",
        "array = sorted(array, key=lambda x: x[1])\n",
        "b = []\n",
        "for i in array:\n",
        "  b.append(x)\n",
        "for b in array:\n",
        "    print(b[0], end=' ')"
      ],
      "metadata": {
        "id": "WXJ96_FO7dY8",
        "colab": {
          "base_uri": "https://localhost:8080/"
        },
        "outputId": "afc5e823-acef-4e6f-a3d0-6646e51713f8"
      },
      "execution_count": 23,
      "outputs": [
        {
          "output_type": "stream",
          "name": "stdout",
          "text": [
            "2\n",
            "수 23\n",
            "수영 1\n",
            "수영 수 "
          ]
        }
      ]
    },
    {
      "cell_type": "markdown",
      "source": [
        "## 두 배열의 원소 교체\n",
        "- 동빈이는 두개의 배열 A 와 B를 가지고 있다. 두 배열은 N개의 원소로 구성되어 있다.(배열 = 자연수)\n",
        "<br> 동빈이는 최대 K번의 바꿔치기 연산을 수행 할 수 있다. 바꿔치기 연산이란, 배열 A에 있는 원소 하나와 배열 B에 있는 <br>\n",
        "원소 하나를 골라서  두 원소를 서로 바꾸는 것을 한다. </br>\n",
        "> 원소교체를 K만큼 해서 배열의 해당하는 원소의 최대합을 구해라~"
      ],
      "metadata": {
        "id": "oLbtuBdcVF1t"
      }
    },
    {
      "cell_type": "code",
      "source": [
        "n,k = map(int,input().split())\n",
        "\n",
        "\n",
        "a = int(input())\n",
        "b = int(input())\n",
        "\n",
        "a.sort()\n",
        "b.sort(reverse=True)\n",
        "\n",
        "for i in range(k):\n",
        "  if a[i] > b[i]:\n",
        "    a[i],b[i] = b[i],a[i]\n",
        "else:\n",
        "  break\n",
        "print(sum(a))"
      ],
      "metadata": {
        "colab": {
          "base_uri": "https://localhost:8080/",
          "height": 271
        },
        "id": "RX8uLFiAVFiT",
        "outputId": "172365dc-48f0-4a36-d595-8992473fe4b3"
      },
      "execution_count": 26,
      "outputs": [
        {
          "name": "stdout",
          "output_type": "stream",
          "text": [
            "5 3\n",
            "1 2 5 4 3\n"
          ]
        },
        {
          "output_type": "error",
          "ename": "ValueError",
          "evalue": "ignored",
          "traceback": [
            "\u001b[0;31m---------------------------------------------------------------------------\u001b[0m",
            "\u001b[0;31mValueError\u001b[0m                                Traceback (most recent call last)",
            "\u001b[0;32m<ipython-input-26-4d7a86280929>\u001b[0m in \u001b[0;36m<module>\u001b[0;34m()\u001b[0m\n\u001b[1;32m      2\u001b[0m \u001b[0;34m\u001b[0m\u001b[0m\n\u001b[1;32m      3\u001b[0m \u001b[0;34m\u001b[0m\u001b[0m\n\u001b[0;32m----> 4\u001b[0;31m \u001b[0ma\u001b[0m \u001b[0;34m=\u001b[0m \u001b[0mint\u001b[0m\u001b[0;34m(\u001b[0m\u001b[0minput\u001b[0m\u001b[0;34m(\u001b[0m\u001b[0;34m)\u001b[0m\u001b[0;34m)\u001b[0m\u001b[0;34m\u001b[0m\u001b[0;34m\u001b[0m\u001b[0m\n\u001b[0m\u001b[1;32m      5\u001b[0m \u001b[0mb\u001b[0m \u001b[0;34m=\u001b[0m \u001b[0mint\u001b[0m\u001b[0;34m(\u001b[0m\u001b[0minput\u001b[0m\u001b[0;34m(\u001b[0m\u001b[0;34m)\u001b[0m\u001b[0;34m)\u001b[0m\u001b[0;34m\u001b[0m\u001b[0;34m\u001b[0m\u001b[0m\n\u001b[1;32m      6\u001b[0m \u001b[0;34m\u001b[0m\u001b[0m\n",
            "\u001b[0;31mValueError\u001b[0m: invalid literal for int() with base 10: '1 2 5 4 3'"
          ]
        }
      ]
    },
    {
      "cell_type": "code",
      "source": [
        ""
      ],
      "metadata": {
        "colab": {
          "base_uri": "https://localhost:8080/"
        },
        "id": "N7ywE4XtHcYh",
        "outputId": "0e6b58d8-e298-4d2d-a979-e13c70f017cd"
      },
      "execution_count": 13,
      "outputs": [
        {
          "output_type": "stream",
          "name": "stdout",
          "text": [
            "2\n",
            "홍길동 95\n",
            "이순신 77\n",
            "[('홍길동', 95), ('이순신', 77)]\n"
          ]
        }
      ]
    },
    {
      "cell_type": "code",
      "source": [
        ""
      ],
      "metadata": {
        "colab": {
          "base_uri": "https://localhost:8080/"
        },
        "id": "XP9oIk4HHiWD",
        "outputId": "c1a088c5-0a8b-44a2-cae8-5e6ab6cd0748"
      },
      "execution_count": 16,
      "outputs": [
        {
          "output_type": "stream",
          "name": "stdout",
          "text": [
            "12\n",
            "12\n"
          ]
        }
      ]
    },
    {
      "cell_type": "code",
      "source": [
        ""
      ],
      "metadata": {
        "colab": {
          "base_uri": "https://localhost:8080/",
          "height": 132
        },
        "id": "IyZxuljQMsJF",
        "outputId": "2e009a5e-7638-4227-8b13-4e100b1f3ae4"
      },
      "execution_count": 17,
      "outputs": [
        {
          "output_type": "error",
          "ename": "SyntaxError",
          "evalue": "ignored",
          "traceback": [
            "\u001b[0;36m  File \u001b[0;32m\"<ipython-input-17-e3f415e3146d>\"\u001b[0;36m, line \u001b[0;32m1\u001b[0m\n\u001b[0;31m    ptint(student: student[1])\u001b[0m\n\u001b[0m                 ^\u001b[0m\n\u001b[0;31mSyntaxError\u001b[0m\u001b[0;31m:\u001b[0m invalid syntax\n"
          ]
        }
      ]
    },
    {
      "cell_type": "code",
      "source": [
        ""
      ],
      "metadata": {
        "colab": {
          "base_uri": "https://localhost:8080/",
          "height": 132
        },
        "id": "Fw3QSFlYQKf0",
        "outputId": "8dceeb68-b609-4ebe-f1af-3d46ad8e1a36"
      },
      "execution_count": 19,
      "outputs": [
        {
          "output_type": "error",
          "ename": "SyntaxError",
          "evalue": "ignored",
          "traceback": [
            "\u001b[0;36m  File \u001b[0;32m\"<ipython-input-19-70ebfe064573>\"\u001b[0;36m, line \u001b[0;32m3\u001b[0m\n\u001b[0;31m    print(a:b)\u001b[0m\n\u001b[0m           ^\u001b[0m\n\u001b[0;31mSyntaxError\u001b[0m\u001b[0;31m:\u001b[0m invalid syntax\n"
          ]
        }
      ]
    },
    {
      "cell_type": "code",
      "source": [
        ""
      ],
      "metadata": {
        "id": "EZZBjXC9Qyc8"
      },
      "execution_count": null,
      "outputs": []
    }
  ]
}